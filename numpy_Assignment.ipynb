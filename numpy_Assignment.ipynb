{
  "nbformat": 4,
  "nbformat_minor": 0,
  "metadata": {
    "colab": {
      "provenance": [],
      "authorship_tag": "ABX9TyOlJywmJDKQwCEhRwW64ceI",
      "include_colab_link": true
    },
    "kernelspec": {
      "name": "python3",
      "display_name": "Python 3"
    },
    "language_info": {
      "name": "python"
    }
  },
  "cells": [
    {
      "cell_type": "markdown",
      "metadata": {
        "id": "view-in-github",
        "colab_type": "text"
      },
      "source": [
        "<a href=\"https://colab.research.google.com/github/nikhilcn-ec/Machine_learning/blob/main/numpy_Assignment.ipynb\" target=\"_parent\"><img src=\"https://colab.research.google.com/assets/colab-badge.svg\" alt=\"Open In Colab\"/></a>"
      ]
    },
    {
      "cell_type": "markdown",
      "source": [
        "Numpy and basics"
      ],
      "metadata": {
        "id": "_z0CAizruvO1"
      }
    },
    {
      "cell_type": "code",
      "execution_count": null,
      "metadata": {
        "colab": {
          "base_uri": "https://localhost:8080/"
        },
        "id": "dTaAgDiGszPw",
        "outputId": "7461df6f-ab00-4612-e3a6-9c8ca4d3cfa5"
      },
      "outputs": [
        {
          "output_type": "stream",
          "name": "stdout",
          "text": [
            "[[1 2]\n",
            " [4 5]]\n"
          ]
        }
      ],
      "source": [
        "import numpy as np\n",
        "\n",
        "# np.array() to create a array\n",
        "\n",
        "a=np.array([1,2,3])\n",
        "b=np.array([[1,2],[4,5]])\n"
      ]
    },
    {
      "cell_type": "code",
      "source": [
        "# ndim returns dimension of array\n",
        "a.ndim"
      ],
      "metadata": {
        "colab": {
          "base_uri": "https://localhost:8080/"
        },
        "id": "5VUrH0Q3uJxy",
        "outputId": "7db56d5c-d22d-4df5-f3e6-dd64107b5f93"
      },
      "execution_count": null,
      "outputs": [
        {
          "output_type": "execute_result",
          "data": {
            "text/plain": [
              "1"
            ]
          },
          "metadata": {},
          "execution_count": 9
        }
      ]
    },
    {
      "cell_type": "code",
      "source": [
        "b.ndim"
      ],
      "metadata": {
        "colab": {
          "base_uri": "https://localhost:8080/"
        },
        "id": "fz2_UVYeuQAe",
        "outputId": "61c57198-9676-4715-a786-85826bf472cd"
      },
      "execution_count": null,
      "outputs": [
        {
          "output_type": "execute_result",
          "data": {
            "text/plain": [
              "2"
            ]
          },
          "metadata": {},
          "execution_count": 8
        }
      ]
    },
    {
      "cell_type": "code",
      "source": [
        "# return shape of array in numpy\n",
        "a.shape"
      ],
      "metadata": {
        "colab": {
          "base_uri": "https://localhost:8080/"
        },
        "id": "1dzMXR32vBzZ",
        "outputId": "e7e6855c-8c76-42c8-dcf7-50657bb3e988"
      },
      "execution_count": null,
      "outputs": [
        {
          "output_type": "execute_result",
          "data": {
            "text/plain": [
              "(3,)"
            ]
          },
          "metadata": {},
          "execution_count": 15
        }
      ]
    },
    {
      "cell_type": "code",
      "source": [
        "b.shape"
      ],
      "metadata": {
        "colab": {
          "base_uri": "https://localhost:8080/"
        },
        "id": "qUbm5qokvFei",
        "outputId": "e4ad399d-2ae4-455c-81aa-396151bc34b6"
      },
      "execution_count": null,
      "outputs": [
        {
          "output_type": "execute_result",
          "data": {
            "text/plain": [
              "(2, 2)"
            ]
          },
          "metadata": {},
          "execution_count": 11
        }
      ]
    },
    {
      "cell_type": "code",
      "source": [
        "# return datatype of numpy array\n",
        "a.dtype"
      ],
      "metadata": {
        "colab": {
          "base_uri": "https://localhost:8080/"
        },
        "id": "6N2sC2UGvMo3",
        "outputId": "f6a594c6-f62f-4735-f553-7c670fc1b65c"
      },
      "execution_count": null,
      "outputs": [
        {
          "output_type": "execute_result",
          "data": {
            "text/plain": [
              "dtype('int64')"
            ]
          },
          "metadata": {},
          "execution_count": 12
        }
      ]
    },
    {
      "cell_type": "code",
      "source": [
        "# returns the size of each element in the array\n",
        "a.itemsize"
      ],
      "metadata": {
        "colab": {
          "base_uri": "https://localhost:8080/"
        },
        "id": "u5_FV4Qkvao1",
        "outputId": "a9a1b97b-5b80-4570-91fe-29e50c94e222"
      },
      "execution_count": null,
      "outputs": [
        {
          "output_type": "execute_result",
          "data": {
            "text/plain": [
              "8"
            ]
          },
          "metadata": {},
          "execution_count": 16
        }
      ]
    },
    {
      "cell_type": "markdown",
      "source": [
        "Slicing in Numpy"
      ],
      "metadata": {
        "id": "8KWL_JuIwD1v"
      }
    },
    {
      "cell_type": "code",
      "source": [
        "arr=np.array([[1,2,0],[3,4,1],[5,6,3]])\n",
        "#returns specific row and all columns\n",
        "r=arr[1,:]\n",
        "print(r)"
      ],
      "metadata": {
        "colab": {
          "base_uri": "https://localhost:8080/"
        },
        "id": "p9ZKF1Bgv9aC",
        "outputId": "5902affd-d2b9-44cb-cac7-dd5c516e2849"
      },
      "execution_count": null,
      "outputs": [
        {
          "output_type": "stream",
          "name": "stdout",
          "text": [
            "[3 4 1]\n"
          ]
        }
      ]
    },
    {
      "cell_type": "code",
      "source": [
        "e=arr[:,0]\n",
        "# returns specific cloumn and all rows\n",
        "print(e)"
      ],
      "metadata": {
        "colab": {
          "base_uri": "https://localhost:8080/"
        },
        "id": "lrI28I3AxIcZ",
        "outputId": "6b17444f-d33c-42e7-8c52-7e80dbeae6de"
      },
      "execution_count": null,
      "outputs": [
        {
          "output_type": "stream",
          "name": "stdout",
          "text": [
            "[1 3 5]\n"
          ]
        }
      ]
    },
    {
      "cell_type": "code",
      "source": [
        "z=arr[0,2]\n",
        "# returns specific column and specific row\n",
        "print(z)"
      ],
      "metadata": {
        "colab": {
          "base_uri": "https://localhost:8080/"
        },
        "id": "MNo6sukTxXbB",
        "outputId": "a0d028db-0f2d-4041-b524-1aae7ee4ed6c"
      },
      "execution_count": null,
      "outputs": [
        {
          "output_type": "stream",
          "name": "stdout",
          "text": [
            "0\n"
          ]
        }
      ]
    },
    {
      "cell_type": "markdown",
      "source": [
        "different initialization of numpy arrays"
      ],
      "metadata": {
        "id": "LFzSWo4WxwzJ"
      }
    },
    {
      "cell_type": "code",
      "source": [
        "# np.zeros creates a new array filled with all zeros.\n",
        "zero_arr=np.zeros(5)\n",
        "print(zero_arr)"
      ],
      "metadata": {
        "colab": {
          "base_uri": "https://localhost:8080/"
        },
        "id": "bx4-_9ktx9_9",
        "outputId": "4b576c78-94de-4d6d-c92f-59f26b1d07c2"
      },
      "execution_count": null,
      "outputs": [
        {
          "output_type": "stream",
          "name": "stdout",
          "text": [
            "[0. 0. 0. 0. 0.]\n"
          ]
        }
      ]
    },
    {
      "cell_type": "code",
      "source": [
        "z_arr=np.zeros((2,3))\n",
        "print(z_arr)"
      ],
      "metadata": {
        "colab": {
          "base_uri": "https://localhost:8080/"
        },
        "id": "wheyfilpzBy8",
        "outputId": "01dfe28e-87f8-4ad5-886c-22e1cd3a8d25"
      },
      "execution_count": null,
      "outputs": [
        {
          "output_type": "stream",
          "name": "stdout",
          "text": [
            "[[0. 0. 0.]\n",
            " [0. 0. 0.]]\n"
          ]
        }
      ]
    },
    {
      "cell_type": "code",
      "source": [
        "# np.ones creates a new array filled with all ones.\n",
        "one_arr=np.ones((2,2))\n",
        "print(one_arr)"
      ],
      "metadata": {
        "colab": {
          "base_uri": "https://localhost:8080/"
        },
        "id": "2US_vs5CzGlL",
        "outputId": "9cf71e4d-5640-424b-eece-ad00c3a0a376"
      },
      "execution_count": null,
      "outputs": [
        {
          "output_type": "stream",
          "name": "stdout",
          "text": [
            "[[1. 1.]\n",
            " [1. 1.]]\n"
          ]
        }
      ]
    },
    {
      "cell_type": "code",
      "source": [
        "# p.full creates a new array filled with any value you want — not just 0 or 1.\n",
        "full_arr=np.full((3,2),9)\n",
        "print(full_arr)"
      ],
      "metadata": {
        "colab": {
          "base_uri": "https://localhost:8080/"
        },
        "id": "oc37-vznzPts",
        "outputId": "da4edc3f-bc61-4d72-b459-d4383394d371"
      },
      "execution_count": null,
      "outputs": [
        {
          "output_type": "stream",
          "name": "stdout",
          "text": [
            "[[9 9]\n",
            " [9 9]\n",
            " [9 9]]\n"
          ]
        }
      ]
    },
    {
      "cell_type": "code",
      "source": [
        "# np.random.rand() generates an array of random numbers between 0 and 1 (from a uniform distribution).\n",
        "rand_arr=np.random.rand(2,3)\n",
        "print(rand_arr)"
      ],
      "metadata": {
        "colab": {
          "base_uri": "https://localhost:8080/"
        },
        "id": "2I9Igiv2zvTK",
        "outputId": "8aafe7b9-bf90-4d84-bc3a-e42267f6f804"
      },
      "execution_count": null,
      "outputs": [
        {
          "output_type": "stream",
          "name": "stdout",
          "text": [
            "[[0.22612794 0.7783412  0.3579951 ]\n",
            " [0.43797484 0.26897048 0.16835978]]\n"
          ]
        }
      ]
    },
    {
      "cell_type": "code",
      "source": [
        "# np.random.randint() generates random integers between a start (inclusive) and an end (exclusive).\n",
        "rand_int=np.random.randint(1,10,size=(3,3))\n",
        "print(rand_int)\n"
      ],
      "metadata": {
        "colab": {
          "base_uri": "https://localhost:8080/"
        },
        "id": "lhbuSY070RB7",
        "outputId": "5dfebadd-6d0c-4e26-a341-766addd1eee6"
      },
      "execution_count": null,
      "outputs": [
        {
          "output_type": "stream",
          "name": "stdout",
          "text": [
            "[[5 7 9]\n",
            " [8 2 5]\n",
            " [8 9 1]]\n"
          ]
        }
      ]
    },
    {
      "cell_type": "code",
      "source": [
        "# np.identity() creates a square matrix (same number of rows and columns) with:\n",
        "\n",
        "# 1s on the main diagonal (top-left to bottom-right)\n",
        "\n",
        "# 0s everywhere else\n",
        "indentity_arr=np.identity(3)\n",
        "print(indentity_arr)"
      ],
      "metadata": {
        "colab": {
          "base_uri": "https://localhost:8080/"
        },
        "id": "mMm6PS2s0rLv",
        "outputId": "ff468230-e21b-4c8d-cd80-14f0febda2a4"
      },
      "execution_count": null,
      "outputs": [
        {
          "output_type": "stream",
          "name": "stdout",
          "text": [
            "[[1. 0. 0.]\n",
            " [0. 1. 0.]\n",
            " [0. 0. 1.]]\n"
          ]
        }
      ]
    },
    {
      "cell_type": "markdown",
      "source": [
        "Reorganizing arrays"
      ],
      "metadata": {
        "id": "EXeWJdj_1SDH"
      }
    },
    {
      "cell_type": "code",
      "source": [
        "# Rearranges the elements of an array into a new shape (without changing the data).\n",
        "\n",
        "arr = np.array([1, 2, 3, 4, 5, 6])\n",
        "new_arr = arr.reshape(2, 3)\n",
        "print(arr)\n",
        "print(new_arr)"
      ],
      "metadata": {
        "colab": {
          "base_uri": "https://localhost:8080/"
        },
        "id": "PXsbwX9Q1Wu2",
        "outputId": "3ffa09fe-fb2e-428e-ce3c-b411def3ef15"
      },
      "execution_count": null,
      "outputs": [
        {
          "output_type": "stream",
          "name": "stdout",
          "text": [
            "[1 2 3 4 5 6]\n",
            "[[1 2 3]\n",
            " [4 5 6]]\n"
          ]
        }
      ]
    },
    {
      "cell_type": "code",
      "source": [
        "# Stacks arrays vertically (one on top of another).\n",
        "arr1 = np.array([1, 2, 3])\n",
        "arr2 = np.array([4, 5, 6])\n",
        "stacked_arr = np.vstack((arr1, arr2))\n",
        "print(stacked_arr)"
      ],
      "metadata": {
        "colab": {
          "base_uri": "https://localhost:8080/"
        },
        "id": "wgfcowvj2Fib",
        "outputId": "b6617ab7-5ce1-492d-9058-b86ce78523ef"
      },
      "execution_count": null,
      "outputs": [
        {
          "output_type": "stream",
          "name": "stdout",
          "text": [
            "[[1 2 3]\n",
            " [4 5 6]]\n"
          ]
        }
      ]
    },
    {
      "cell_type": "code",
      "source": [
        "# Stacks arrays horizontally (one beside the other).\n",
        "arr1 = np.array([1, 2, 3])\n",
        "arr2 = np.array([4, 5, 6])\n",
        "stacked_arr = np.hstack((arr1, arr2))\n",
        "print(stacked_arr)"
      ],
      "metadata": {
        "colab": {
          "base_uri": "https://localhost:8080/"
        },
        "id": "m3SL4SEe2d5E",
        "outputId": "79b0a708-661e-4507-a264-ae56fe47a826"
      },
      "execution_count": null,
      "outputs": [
        {
          "output_type": "stream",
          "name": "stdout",
          "text": [
            "[1 2 3 4 5 6]\n"
          ]
        }
      ]
    },
    {
      "cell_type": "markdown",
      "source": [
        "load data from file"
      ],
      "metadata": {
        "id": "Rt3rXmSP3gRX"
      }
    },
    {
      "cell_type": "code",
      "source": [
        "# np.genfromtxt() is used to load data from a text file (like .csv or .txt), and it's great for handling files with missing or inconsistent data.\n",
        "data = np.genfromtxt('file.txt', delimiter=',')\n",
        "print(data)"
      ],
      "metadata": {
        "colab": {
          "base_uri": "https://localhost:8080/"
        },
        "id": "dl-8azSE3jtm",
        "outputId": "38510f62-1d7d-4688-9230-db9d3a2fea56"
      },
      "execution_count": null,
      "outputs": [
        {
          "output_type": "stream",
          "name": "stdout",
          "text": [
            "[1. 2. 3. 4. 4. 5. 5. 6. 6. 7. 7.]\n"
          ]
        }
      ]
    },
    {
      "cell_type": "code",
      "source": [
        "# astype() is used to change the data type of an existing NumPy array.\n",
        "org_arr=np.array([1.3,4.5,6.7])\n",
        "print(F\"float type array:{org_arr}\")\n",
        "typ_arr=arr.astype(int)\n",
        "print(F\"int type array:{typ_arr}\")"
      ],
      "metadata": {
        "colab": {
          "base_uri": "https://localhost:8080/"
        },
        "id": "kC4X2kNp4Nyx",
        "outputId": "f6def750-d7e8-40af-98b8-61579ae41556"
      },
      "execution_count": null,
      "outputs": [
        {
          "output_type": "stream",
          "name": "stdout",
          "text": [
            "float type array:[1.3 4.5 6.7]\n",
            "int type array:[1 2 3 4 5 6]\n"
          ]
        }
      ]
    },
    {
      "cell_type": "code",
      "source": [
        "# data[data > value]\n",
        "# This is a boolean indexing technique. It filters the array based on a condition.\n",
        "fill_arr=typ_arr[typ_arr<4]\n",
        "print(fill_arr)"
      ],
      "metadata": {
        "colab": {
          "base_uri": "https://localhost:8080/"
        },
        "id": "NsVGGIQo4c_u",
        "outputId": "fc5411a1-7864-4084-bea9-57a55ddc7a28"
      },
      "execution_count": null,
      "outputs": [
        {
          "output_type": "stream",
          "name": "stdout",
          "text": [
            "[1 2 3]\n"
          ]
        }
      ]
    },
    {
      "cell_type": "markdown",
      "source": [
        "Basic Mathematical Functions: sin() and cos()"
      ],
      "metadata": {
        "id": "DPtDJ6lL5z67"
      }
    },
    {
      "cell_type": "code",
      "source": [
        "# np.sin()\n",
        "# Calculates the sine of each element in the array.\n",
        "arr = np.array([0, np.pi/2, np.pi])  # angles in radians\n",
        "sin_values = np.sin(arr)\n",
        "print(arr)\n",
        "print(sin_values.astype(int))\n"
      ],
      "metadata": {
        "colab": {
          "base_uri": "https://localhost:8080/"
        },
        "id": "dqxHvkfU5Dnv",
        "outputId": "1c19cbe6-cf42-4184-f208-5aeb41f0e8d3"
      },
      "execution_count": null,
      "outputs": [
        {
          "output_type": "stream",
          "name": "stdout",
          "text": [
            "[0.         1.57079633 3.14159265]\n",
            "[0 1 0]\n"
          ]
        }
      ]
    },
    {
      "cell_type": "code",
      "source": [
        "arr = np.array([0, np.pi/2, np.pi])\n",
        "cos_values = np.cos(arr)\n",
        "print(cos_values.astype(int))"
      ],
      "metadata": {
        "colab": {
          "base_uri": "https://localhost:8080/"
        },
        "id": "CNyDaMcu6CSC",
        "outputId": "078116b8-9cd6-43b4-e298-9039df6224a1"
      },
      "execution_count": null,
      "outputs": [
        {
          "output_type": "stream",
          "name": "stdout",
          "text": [
            "[ 1  0 -1]\n"
          ]
        }
      ]
    },
    {
      "cell_type": "markdown",
      "source": [
        "Linear Algebra: matmul() and linalg"
      ],
      "metadata": {
        "id": "_GfP0KF861Fd"
      }
    },
    {
      "cell_type": "code",
      "source": [
        "# np.matmul()\n",
        "# Performs matrix multiplication (also works for dot products of vectors).\n",
        "A = np.array([[1, 2], [3, 4]])\n",
        "B = np.array([[5, 6], [7, 8]])\n",
        "\n",
        "result = np.matmul(A, B)\n",
        "print(result)\n"
      ],
      "metadata": {
        "colab": {
          "base_uri": "https://localhost:8080/"
        },
        "id": "3ng3S-O06m5E",
        "outputId": "00fe9462-bf26-47b6-cea2-22fe76cbac82"
      },
      "execution_count": null,
      "outputs": [
        {
          "output_type": "stream",
          "name": "stdout",
          "text": [
            "[[19 22]\n",
            " [43 50]]\n"
          ]
        }
      ]
    },
    {
      "cell_type": "code",
      "source": [
        "#  np.linalg.det()\n",
        "# Calculates the determinant of a matrix.\n",
        "A = np.array([[1, 2], [3, 4]])\n",
        "\n",
        "det = np.linalg.det(A)\n",
        "print(det.astype(int))\n",
        "\n"
      ],
      "metadata": {
        "colab": {
          "base_uri": "https://localhost:8080/"
        },
        "id": "RGiRqj6r6-p8",
        "outputId": "8e916447-b419-46fc-f494-db08e4d7805f"
      },
      "execution_count": null,
      "outputs": [
        {
          "output_type": "stream",
          "name": "stdout",
          "text": [
            "-2\n"
          ]
        }
      ]
    },
    {
      "cell_type": "markdown",
      "source": [
        " Statistics: max(), min(), and sum()"
      ],
      "metadata": {
        "id": "P-x72K5N7Je2"
      }
    },
    {
      "cell_type": "code",
      "source": [
        "# np.max()\n",
        "# Returns the maximum value in an array.\n",
        "arr = np.array([1, 2, 3, 4, 5])\n",
        "max_value = np.max(arr)\n",
        "min_value = np.min(arr)\n",
        "sum=np.sum(arr)\n",
        "print(sum)\n",
        "print(min_value)\n",
        "print(max_value)\n"
      ],
      "metadata": {
        "colab": {
          "base_uri": "https://localhost:8080/"
        },
        "id": "NOZcGR9V7VB2",
        "outputId": "4539f98a-0de6-4285-b0d5-0cadb8fb0614"
      },
      "execution_count": null,
      "outputs": [
        {
          "output_type": "stream",
          "name": "stdout",
          "text": [
            "15\n",
            "1\n",
            "5\n"
          ]
        }
      ]
    }
  ]
}